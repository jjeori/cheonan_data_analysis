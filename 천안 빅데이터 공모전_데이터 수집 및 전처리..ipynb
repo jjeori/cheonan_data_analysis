{
 "cells": [
  {
   "cell_type": "code",
   "execution_count": null,
   "id": "2d22590a",
   "metadata": {},
   "outputs": [],
   "source": [
    "from selenium import webdriver\n",
    "from bs4 import BeautifulSoup\n",
    "import re\n",
    "import pandas as pd\n",
    "import time, datetime\n",
    "import unicodedata"
   ]
  },
  {
   "cell_type": "code",
   "execution_count": null,
   "id": "1c7cb699",
   "metadata": {},
   "outputs": [],
   "source": [
    "driver = webdriver.Chrome(\"Desktop/chromedriver\")\n",
    "url = 'https://www.instagram.com/'\n",
    "driver.get(url)"
   ]
  },
  {
   "cell_type": "code",
   "execution_count": null,
   "id": "496e9735",
   "metadata": {},
   "outputs": [],
   "source": [
    "# 첫 페이지 선택하기\n",
    "driver.find_element_by_css_selector(\"div._aagu\").click()"
   ]
  },
  {
   "cell_type": "code",
   "execution_count": null,
   "id": "90adbbcb",
   "metadata": {},
   "outputs": [],
   "source": [
    "# 크롤링 함수\n",
    "def searching_content(driver):\n",
    "    html = driver.page_source\n",
    "    soup = BeautifulSoup(html, 'html.parser')\n",
    "    \n",
    "    try:\n",
    "        content = soup.select('div._a9zs > span._aacl')[0].text\n",
    "        content = unicodedata.normalize('NFC', content)\n",
    "    \n",
    "    except:\n",
    "        content = ''\n",
    "    \n",
    "    tags = re.findall(r'#[^\\s#,\\\\]+', content)\n",
    "    \n",
    "    time = soup.select('time._aaqe')[0]['datetime'][:10]\n",
    "    \n",
    "    try:\n",
    "        place = soup.select('div._aaqm')[0].text\n",
    "        \n",
    "    except:\n",
    "        place = ' '\n",
    "    \n",
    "    data = [content, tags, time, place]\n",
    "    \n",
    "    return data"
   ]
  },
  {
   "cell_type": "code",
   "execution_count": null,
   "id": "233422ea",
   "metadata": {},
   "outputs": [],
   "source": [
    "# 다음 페이지 함수\n",
    "def move_next(driver):\n",
    "    right = driver.find_element_by_css_selector('div._aaqg')\n",
    "    right.click()\n",
    "    time.sleep(5)"
   ]
  },
  {
   "cell_type": "code",
   "execution_count": null,
   "id": "c50ac8a7",
   "metadata": {},
   "outputs": [],
   "source": [
    "# 독립기념관 크롤링\n",
    "results_815 = []\n",
    "target = 10000\n",
    "\n",
    "for i in range(target):\n",
    "    try:\n",
    "        data = searching_content(driver)\n",
    "        results_815.append(data)\n",
    "        move_next(driver)\n",
    "        \n",
    "    except:\n",
    "        move_next(driver)\n",
    "        time.sleep(5)"
   ]
  },
  {
   "cell_type": "code",
   "execution_count": null,
   "id": "be2ee2ed",
   "metadata": {},
   "outputs": [],
   "source": [
    "# dataframe 만들기\n",
    "results_815_df = pd.DataFrame(results_815)\n",
    "results_815_df.columns = ['내용', '태그', '날짜', '장소']"
   ]
  },
  {
   "cell_type": "code",
   "execution_count": null,
   "id": "2cd81778",
   "metadata": {},
   "outputs": [],
   "source": [
    "# 저장하기\n",
    "results_815_df.to_excel(\"Desktop/독립기념관SNS.xlsx\", index = False)"
   ]
  },
  {
   "cell_type": "code",
   "execution_count": null,
   "id": "ef57e4e4",
   "metadata": {},
   "outputs": [],
   "source": [
    "# 군인 휴가 크롤링\n",
    "results_vacation = []\n",
    "target = 10000\n",
    "\n",
    "for i in range(target):\n",
    "    try:\n",
    "        data = searching_content(driver)\n",
    "        results_vacation.append(data)\n",
    "        move_next(driver)\n",
    "        \n",
    "    except:\n",
    "        move_next(driver)\n",
    "        time.sleep(3)"
   ]
  },
  {
   "cell_type": "code",
   "execution_count": null,
   "id": "1bf881e2",
   "metadata": {},
   "outputs": [],
   "source": [
    "# dataframe 만들기\n",
    "results_vacations_df = pd.DataFrame(results_vacation)\n",
    "results_vacations_df.columns = ['내용', '해시태그', '날짜', '위치']"
   ]
  },
  {
   "cell_type": "code",
   "execution_count": null,
   "id": "8056bb70",
   "metadata": {},
   "outputs": [],
   "source": [
    "# 저장하기\n",
    "results_vacations_df.to_excel(\"Desktop/army_vacation.xlsx\", index = False)"
   ]
  },
  {
   "cell_type": "code",
   "execution_count": null,
   "id": "625d0613",
   "metadata": {},
   "outputs": [],
   "source": [
    "# 독립기념관 데이터 전처리\n",
    "tags_total = []\n",
    "\n",
    "for tags in SNS_815['태그']:\n",
    "    tags_list = tags[2:-2].split(\",\")\n",
    "    for tag in tags_list:\n",
    "        tags_total.append(tag)"
   ]
  },
  {
   "cell_type": "code",
   "execution_count": null,
   "id": "9cdde68a",
   "metadata": {},
   "outputs": [],
   "source": [
    "# 빈도주 집계(Counter)\n",
    "from collections import Counter\n",
    "tags_counts = Counter(tags_total)\n",
    "\n",
    "# 가장 많이 사용된 해시태그 확인\n",
    "tags_counts.most_common(100)"
   ]
  },
  {
   "cell_type": "code",
   "execution_count": null,
   "id": "aa4131ed",
   "metadata": {},
   "outputs": [],
   "source": [
    "# 해시태그 시각화 처리\n",
    "import matplotlib.pyplot as plt\n",
    "import seaborn as sns\n",
    "from matplotlib import font_manager, rc\n",
    "import sys\n",
    "\n",
    "if sys.platform == 'darwin':\n",
    "    font_name = \"AppleGothic\"\n",
    "    \n",
    "rc('font', family = font_name)"
   ]
  },
  {
   "cell_type": "code",
   "execution_count": null,
   "id": "f96170c9",
   "metadata": {},
   "outputs": [],
   "source": [
    "tag_counts_df = pd.DataFrame(tags_counts.most_common(30))\n",
    "tag_counts_df.columns = ['tags', 'counts']"
   ]
  },
  {
   "cell_type": "code",
   "execution_count": null,
   "id": "71370530",
   "metadata": {},
   "outputs": [],
   "source": [
    "plt.figure(figsize = (10, 8))\n",
    "sns.barplot(x = 'counts', y = 'tags', data = tag_counts_df)"
   ]
  },
  {
   "cell_type": "code",
   "execution_count": null,
   "id": "9323a553",
   "metadata": {},
   "outputs": [],
   "source": [
    "# 군인 데이터 전처리\n",
    "army_tags = []\n",
    "\n",
    "for tag in SNS_army['해시태그']:\n",
    "    tag_list = tag[2:-2].split(\",\")\n",
    "    for tag in tag_list:\n",
    "        army_tags.append(tag)"
   ]
  },
  {
   "cell_type": "code",
   "execution_count": null,
   "id": "b460ba63",
   "metadata": {},
   "outputs": [],
   "source": [
    "army_tags_counts = Counter(army_tags)\n",
    "army_tags_counts.most_common()\n",
    "army_tag_counts_df = pd.DataFrame(army_tags_counts.most_common(30))\n",
    "army_tag_counts_df.columns = ['tags', 'counts']"
   ]
  },
  {
   "cell_type": "code",
   "execution_count": null,
   "id": "97108a36",
   "metadata": {},
   "outputs": [],
   "source": [
    "plt.figure(figsize = (10, 8))\n",
    "sns.barplot(x = 'counts', y = 'tags', data = army_tag_counts_df)"
   ]
  },
  {
   "cell_type": "code",
   "execution_count": null,
   "id": "e07b20d2",
   "metadata": {},
   "outputs": [],
   "source": [
    "# 지역 투어 상품 데이터 전처리\n",
    "tour_data_df = pd.DataFrame([])\n",
    "\n",
    "folder = 'Desktop/지역별 투어:교통상품 데이터/'\n",
    "f_list = ['YN_REGNAL_TOUR_ND_TRNSPORT_GOODS_202209.csv',\n",
    "         'YN_REGNAL_TOUR_ND_TRNSPORT_GOODS_202208.csv',\n",
    "         'YN_REGNAL_TOUR_ND_TRNSPORT_GOODS_202207.csv',\n",
    "         'YN_REGNAL_TOUR_ND_TRNSPORT_GOODS_202206.csv',\n",
    "         'YN_REGNAL_TOUR_ND_TRNSPORT_GOODS_202205.csv',\n",
    "         'YN_REGNAL_TOUR_ND_TRNSPORT_GOODS_202203.csv',\n",
    "         'YN_REGNAL_TOUR_ND_TRNSPORT_GOODS_202202.csv',\n",
    "         'YN_REGNAL_TOUR_ND_TRNSPORT_GOODS_202201.csv']\n",
    "\n",
    "for fname in f_list:\n",
    "    fpath = folder + fname\n",
    "    temp = pd.read_csv(fpath)\n",
    "    tour_data_df = tour_data_df.append(temp)\n",
    "    \n",
    "tour_data_df.columns = ['지역', '투어상품코드', '상품명', '상품주소', '날짜']"
   ]
  },
  {
   "cell_type": "code",
   "execution_count": null,
   "id": "58a4a258",
   "metadata": {},
   "outputs": [],
   "source": [
    "tour_cheonan_df = tour_data_df[tour_data_df['지역'].str.contains('천안')]\n",
    "tour_cheonan_df.to_excel(\"Desktop/야놀자 천안 인기 여행지.xlsx\", index = False)"
   ]
  },
  {
   "cell_type": "code",
   "execution_count": 1,
   "id": "56c7e106",
   "metadata": {},
   "outputs": [],
   "source": [
    "# 여행지 키워드 데이터 전처리\n",
    "tour_keyword_data_df = pd.DataFrame([])\n",
    "\n",
    "f_list = ['CI_YEAR_ACCTO_TRRSRT_KWRD_LIST_2021.csv', 'CI_ALL_PD_TRRSRT_KWRD_INFO_2020.csv']\n",
    "\n",
    "folder = 'Desktop/여행지 키워드 데이터/'\n",
    "\n",
    "for fname in f_list:\n",
    "    fpath = folder + fname\n",
    "    temp = pd.read_csv(fpath)\n",
    "    tour_keyword_data_df = tour_keyword_data_df.append(temp)tour_keyword_all_df = tour_keyword_all_df.fillna('2020')\n",
    "tour_keyword_all_df = tour_keyword_all_df[['AREA_NM', 'KWRD_RANK_CO', 'KWRD_NM', 'OCCRRNC_YEAR']]\n",
    "tour_keyword_all_df.columns = ['지역', '순위', '여행키워드', '년도']\n"
   ]
  },
  {
   "cell_type": "code",
   "execution_count": null,
   "id": "fc7aa68a",
   "metadata": {},
   "outputs": [],
   "source": [
    "tour_keyword_cheonan_df = tour_keyword_cheonan_df[['AREA_NM', 'KWRD_RANK_CO', 'KWRD_NM', 'OCCRRNC_YEAR']]\n",
    "tour_keyword_cheonan_df.columns = ['지역', '순위', '여행키워드', '년도']\n",
    "tour_keyword_cheonan_df"
   ]
  },
  {
   "cell_type": "code",
   "execution_count": null,
   "id": "7a90b46a",
   "metadata": {},
   "outputs": [],
   "source": [
    "# 여가시간 활용 목적 데이터 전처리\n",
    "time_data_df = pd.DataFrame([])\n",
    "\n",
    "f_list = ['CI_LSR_TIME_USE_PURPS_INFO_20220720.csv',\n",
    "         'CI_LSR_TIME_USE_PURPS_INFO_20220627.csv',\n",
    "         'CI_LSR_TIME_USE_PURPS_INFO_20220629.csv',\n",
    "         'CI_LSR_TIME_USE_PURPS_INFO_20220704.csv',\n",
    "         'CI_LSR_TIME_USE_PURPS_INFO_20220718.csv',\n",
    "         'CI_LSR_TIME_USE_PURPS_INFO_20220725.csv',\n",
    "         'CI_LSR_TIME_USE_PURPS_INFO_20220727.csv',\n",
    "         'CI_LSR_TIME_USE_PURPS_INFO_20220803.csv',\n",
    "         'CI_LSR_TIME_USE_PURPS_INFO_20220810.csv',\n",
    "         'CI_LSR_TIME_USE_PURPS_INFO_20220817.csv',\n",
    "         'CI_LSR_TIME_USE_PURPS_INFO_20220824.csv',\n",
    "         'CI_LSR_TIME_USE_PURPS_INFO_20220831.csv',\n",
    "         'CI_LSR_TIME_USE_PURPS_INFO_20220907.csv',\n",
    "         'CI_LSR_TIME_USE_PURPS_INFO_20220914.csv',\n",
    "         'CI_LSR_TIME_USE_PURPS_INFO_20220921.csv',\n",
    "         'CI_LSR_TIME_USE_PURPS_INFO_20220928 (1).csv']\n",
    "\n",
    "folder = 'Desktop/여가시간 활용목적/'\n",
    "\n",
    "for fname in f_list:\n",
    "    fpath = folder + fname\n",
    "    temp = pd.read_csv(fpath)\n",
    "    time_data_df = time_data_df.append(temp)"
   ]
  },
  {
   "cell_type": "code",
   "execution_count": null,
   "id": "79cdd791",
   "metadata": {},
   "outputs": [],
   "source": [
    "time_data_df.columns = ['응답자ID', '조사시작일자', '성별', '연령대', '거주지', '가구소득정도', '여가시간1순위', '여가시간2순위']\n",
    "time_20M_df = time_data_df[(time_data_df['성별'] == 'M') & (time_data_df['연령대'] == '20대')]\n",
    "time_20M_df['여가시간1순위'].value_counts()\n",
    "time_20M_df['여가시간2순위'].value_counts()"
   ]
  },
  {
   "cell_type": "code",
   "execution_count": null,
   "id": "24b5fbfe",
   "metadata": {},
   "outputs": [],
   "source": [
    "# 천안의흥 데이터 수집\n",
    "rest_list_data = []\n",
    "\n",
    "for i in range(1, 6):\n",
    "    url = \"https://www.cheonan.go.kr/prog/hotFood/tour/sub03_08/list.do?area=&pageIndex={}\".format(i)\n",
    "    \n",
    "    res = requests.get(url)\n",
    "    soup = BeautifulSoup(res.content, 'html.parser')\n",
    "    rest_list = soup.select('span.con')\n",
    "\n",
    "    for i in rest_list:\n",
    "        menu = i.select('li.icon_06')[0].text\n",
    "        number = i.select('li.icon_02')[0].text\n",
    "        address = i.select('li.icon_01')[0].text\n",
    "        name = i('strong')[0].text\n",
    "        \n",
    "        rest_list_data.append([menu, name, address, number])"
   ]
  },
  {
   "cell_type": "code",
   "execution_count": null,
   "id": "05f56dad",
   "metadata": {},
   "outputs": [],
   "source": [
    "rest_list_df = pd.DataFrame(rest_list_data)\n",
    "rest_list_df.columns = ['주메뉴', '이름', '주소', '연락처']"
   ]
  },
  {
   "cell_type": "code",
   "execution_count": null,
   "id": "ecc77a89",
   "metadata": {},
   "outputs": [],
   "source": [
    "res = requests.get('https://www.cheonan.go.kr/tour/sub03_12.do')\n",
    "soup = BeautifulSoup(res.content, 'html.parser')\n",
    "bakery_list = soup.select('div.con')\n",
    "\n",
    "bakery_list_data = []\n",
    "\n",
    "for bakery in bakery_list:\n",
    "    name = bakery.select('strong.title2')[0].text\n",
    "    inform = bakery.select('p.mb_10')[0].text.replace('\\r', '').replace('\\n', '').replace('\\t', '')\n",
    "    number = bakery.select('li')[1].text.split('/')[1].strip()\n",
    "    address = bakery.select('li')[1].text.split('/')[0].split(':')[1].strip()\n",
    "    \n",
    "    bakery_list_data.append([name, inform, address, number])"
   ]
  },
  {
   "cell_type": "code",
   "execution_count": null,
   "id": "a817a12b",
   "metadata": {},
   "outputs": [],
   "source": [
    "columns = ['이름', '소개', '주소', '연락처']\n",
    "bakery_list_df = pd.DataFrame(bakery_list_data, columns = columns)"
   ]
  },
  {
   "cell_type": "code",
   "execution_count": null,
   "id": "3608971b",
   "metadata": {},
   "outputs": [],
   "source": [
    "# 나머지 데이터 수집 결과\n",
    "import pandas as pd\n",
    "fastiver = pd.read_excel(\"Desktop/천안_축제.xlsx\")\n",
    "museum = pd.read_excel(\"Desktop/천안_박물관.xlsx\")\n",
    "san = pd.read_excel(\"Desktop/천안_산.xlsx\")\n",
    "cheonan12 = pd.read_excel(\"Desktop/천안_천안12경.xlsx\")\n",
    "nature = pd.read_excel(\"Desktop/천안_자연관광.xlsx\")\n",
    "camping = pd.read_excel(\"Desktop/천안_캠핑장.xlsx\")"
   ]
  },
  {
   "cell_type": "code",
   "execution_count": null,
   "id": "7c2f358f",
   "metadata": {},
   "outputs": [],
   "source": [
    "# 도로명 주소를 통해 위도와 경도로 반환\n",
    "bakery = pd.read_excel(\"Desktop/천안_빵집 및 호두과자.xlsx\")\n",
    "address = bakery['주소']\n",
    "\n",
    "for i in range(len(address)):\n",
    "    a = address[i].split(' ')\n",
    "    address[i] = \" \".join(a[0:3])\n",
    "print(address)"
   ]
  },
  {
   "cell_type": "code",
   "execution_count": null,
   "id": "7269f441",
   "metadata": {},
   "outputs": [],
   "source": [
    "from geopy.geocoders import Nominatim\n",
    "geo_local = Nominatim(user_agent = 'South Korea')\n",
    "def geocoding(address):\n",
    "    try:\n",
    "        geo = geo_local.geocode(address)\n",
    "        x_y = [geo.latitude, geo.longitude]\n",
    "        return x_y\n",
    "    \n",
    "    except:\n",
    "        return[0, 0]"
   ]
  },
  {
   "cell_type": "code",
   "execution_count": null,
   "id": "d913ffa5",
   "metadata": {},
   "outputs": [],
   "source": [
    "latitude = []\n",
    "longitude = []\n",
    "\n",
    "for i in address:\n",
    "    latitude.append(geocoding(i)[0])\n",
    "    longitude.append(geocoding(i)[1])"
   ]
  },
  {
   "cell_type": "code",
   "execution_count": null,
   "id": "428a5272",
   "metadata": {},
   "outputs": [],
   "source": [
    "bakery['위도'] = latitude\n",
    "bakery['경도'] = longitude"
   ]
  },
  {
   "cell_type": "code",
   "execution_count": null,
   "id": "aa2795fc",
   "metadata": {},
   "outputs": [],
   "source": [
    "bakery"
   ]
  }
 ],
 "metadata": {
  "kernelspec": {
   "display_name": "Python 3 (ipykernel)",
   "language": "python",
   "name": "python3"
  },
  "language_info": {
   "codemirror_mode": {
    "name": "ipython",
    "version": 3
   },
   "file_extension": ".py",
   "mimetype": "text/x-python",
   "name": "python",
   "nbconvert_exporter": "python",
   "pygments_lexer": "ipython3",
   "version": "3.9.7"
  }
 },
 "nbformat": 4,
 "nbformat_minor": 5
}
