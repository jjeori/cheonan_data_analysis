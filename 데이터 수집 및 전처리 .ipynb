{
 "cells": [
  {
   "cell_type": "markdown",
   "id": "8b136198",
   "metadata": {},
   "source": [
    "### 클롤링 함수 만들고, 데이터 수집하기"
   ]
  },
  {
   "cell_type": "code",
   "execution_count": null,
   "id": "40df864c",
   "metadata": {
    "scrolled": true
   },
   "outputs": [],
   "source": [
    "from selenium import webdriver\n",
    "from bs4 import BeautifulSoup\n",
    "import re\n",
    "import pandas as pd\n",
    "import time, datetime\n",
    "import unicodedata"
   ]
  },
  {
   "cell_type": "code",
   "execution_count": null,
   "id": "23627b0a",
   "metadata": {
    "scrolled": true
   },
   "outputs": [],
   "source": [
    "driver = webdriver.Chrome(\"Desktop/chromedriver\")\n",
    "url = 'https://www.instagram.com/'\n",
    "driver.get(url)"
   ]
  },
  {
   "cell_type": "code",
   "execution_count": null,
   "id": "c2fe74ae",
   "metadata": {
    "scrolled": true
   },
   "outputs": [],
   "source": [
    "# 첫 페이지 선택하기\n",
    "driver.find_element_by_css_selector(\"div._aagu\").click()"
   ]
  },
  {
   "cell_type": "code",
   "execution_count": null,
   "id": "4f6a95df",
   "metadata": {
    "scrolled": true
   },
   "outputs": [],
   "source": [
    "# 크롤링 함수\n",
    "def searching_content(driver):\n",
    "    html = driver.page_source\n",
    "    soup = BeautifulSoup(html, 'html.parser')\n",
    "    \n",
    "    try:\n",
    "        content = soup.select('div._a9zs > span._aacl')[0].text\n",
    "        content = unicodedata.normalize('NFC', content)\n",
    "    \n",
    "    except:\n",
    "        content = ''\n",
    "    \n",
    "    tags = re.findall(r'#[^\\s#,\\\\]+', content)\n",
    "    \n",
    "    time = soup.select('time._aaqe')[0]['datetime'][:10]\n",
    "    \n",
    "    try:\n",
    "        place = soup.select('div._aaqm')[0].text\n",
    "        \n",
    "    except:\n",
    "        place = ' '\n",
    "    \n",
    "    data = [content, tags, time, place]\n",
    "    \n",
    "    return data"
   ]
  },
  {
   "cell_type": "code",
   "execution_count": null,
   "id": "6bb07263",
   "metadata": {
    "scrolled": true
   },
   "outputs": [],
   "source": [
    "# 다음 페이지 함수\n",
    "def move_next(driver):\n",
    "    right = driver.find_element_by_css_selector('div._aaqg')\n",
    "    right.click()\n",
    "    time.sleep(5)"
   ]
  },
  {
   "cell_type": "code",
   "execution_count": null,
   "id": "2606489f",
   "metadata": {
    "scrolled": true
   },
   "outputs": [],
   "source": [
    "# 독립기념관 크롤링\n",
    "results_8 = []\n",
    "target = 1000\n",
    "\n",
    "for i in range(target):\n",
    "    try:\n",
    "        data = searching_content(driver)\n",
    "        results_815.append(data)\n",
    "        move_next(driver)\n",
    "        \n",
    "    except:\n",
    "        move_next(driver)\n",
    "        time.sleep(5)"
   ]
  },
  {
   "cell_type": "code",
   "execution_count": null,
   "id": "b49e1de3",
   "metadata": {
    "scrolled": false
   },
   "outputs": [],
   "source": [
    "results_815"
   ]
  },
  {
   "cell_type": "code",
   "execution_count": null,
   "id": "39a06f37",
   "metadata": {
    "scrolled": true
   },
   "outputs": [],
   "source": [
    "results_815_df = pd.DataFrame(results_815)\n",
    "results_815_df.columns = ['내용', '태그', '날짜', '장소']"
   ]
  },
  {
   "cell_type": "code",
   "execution_count": null,
   "id": "77abbc20",
   "metadata": {
    "scrolled": true
   },
   "outputs": [],
   "source": [
    "results_815_df"
   ]
  },
  {
   "cell_type": "code",
   "execution_count": null,
   "id": "448a2b59",
   "metadata": {
    "scrolled": true
   },
   "outputs": [],
   "source": [
    "results_815_df.to_excel(\"Desktop/독립기념관SNS.xlsx\", index = False)"
   ]
  },
  {
   "cell_type": "code",
   "execution_count": null,
   "id": "da1a654b",
   "metadata": {
    "scrolled": false
   },
   "outputs": [],
   "source": [
    "# 군인 휴가 크롤링\n",
    "results_vacation = []\n",
    "target = 1000\n",
    "\n",
    "for i in range(target):\n",
    "    try:\n",
    "        data = searching_content(driver)\n",
    "        results_vacation.append(data)\n",
    "        move_next(driver)\n",
    "        \n",
    "    except:\n",
    "        move_next(driver)\n",
    "        time.sleep(3)"
   ]
  },
  {
   "cell_type": "code",
   "execution_count": null,
   "id": "6434d222",
   "metadata": {
    "scrolled": true
   },
   "outputs": [],
   "source": [
    "results_vacations_df = pd.DataFrame(results_vacation)"
   ]
  },
  {
   "cell_type": "code",
   "execution_count": null,
   "id": "047b904c",
   "metadata": {
    "scrolled": true
   },
   "outputs": [],
   "source": [
    "results_vacations_df.columns = ['내용', '해시태그', '날짜', '위치']"
   ]
  },
  {
   "cell_type": "code",
   "execution_count": null,
   "id": "ce9cb9bb",
   "metadata": {
    "scrolled": true
   },
   "outputs": [],
   "source": [
    "results_vacations_df.to_excel(\"Desktop/army_vacation.xlsx\", index = False)"
   ]
  },
  {
   "cell_type": "code",
   "execution_count": null,
   "id": "5fbd2b7b",
   "metadata": {
    "scrolled": true
   },
   "outputs": [],
   "source": [
    "SNS_815 = pd.read_excel(\"Desktop/독립기념관SNS.xlsx\")"
   ]
  },
  {
   "cell_type": "markdown",
   "id": "2c3a461e",
   "metadata": {},
   "source": [
    "### 독립기념관 크롤링 데이터 전처리"
   ]
  },
  {
   "cell_type": "code",
   "execution_count": null,
   "id": "2ea48dca",
   "metadata": {
    "scrolled": true
   },
   "outputs": [],
   "source": [
    "SNS_815['태그']"
   ]
  },
  {
   "cell_type": "code",
   "execution_count": null,
   "id": "2cf577b3",
   "metadata": {
    "scrolled": true
   },
   "outputs": [],
   "source": [
    "tags_total = []\n",
    "\n",
    "for tags in SNS_815['태그']:\n",
    "    tags_list = tags[2:-2].split(\",\")\n",
    "    for tag in tags_list:\n",
    "        tags_total.append(tag)"
   ]
  },
  {
   "cell_type": "code",
   "execution_count": null,
   "id": "fc696ce4",
   "metadata": {
    "scrolled": true
   },
   "outputs": [],
   "source": [
    "# 빈도주 집계(Counter)\n",
    "from collections import Counter\n",
    "tags_counts = Counter(tags_total)\n",
    "\n",
    "# 가장 많이 사용된 해시태그 확인\n",
    "tags_counts.most_common(100)"
   ]
  },
  {
   "cell_type": "code",
   "execution_count": null,
   "id": "a14c90b7",
   "metadata": {
    "scrolled": true
   },
   "outputs": [],
   "source": [
    "import matplotlib.pyplot as plt\n",
    "import seaborn as sns\n",
    "from matplotlib import font_manager, rc\n",
    "import sys\n",
    "\n",
    "if sys.platform == 'darwin':\n",
    "    font_name = \"AppleGothic\"\n",
    "    \n",
    "rc('font', family = font_name)"
   ]
  },
  {
   "cell_type": "code",
   "execution_count": null,
   "id": "681d3edd",
   "metadata": {
    "scrolled": true
   },
   "outputs": [],
   "source": [
    "tag_counts_df = pd.DataFrame(tags_counts.most_common(30))\n",
    "tag_counts_df.columns = ['tags', 'counts']"
   ]
  },
  {
   "cell_type": "code",
   "execution_count": null,
   "id": "e1711d39",
   "metadata": {
    "scrolled": true
   },
   "outputs": [],
   "source": [
    "plt.figure(figsize = (10, 8))\n",
    "sns.barplot(x = 'counts', y = 'tags', data = tag_counts_df)"
   ]
  },
  {
   "cell_type": "markdown",
   "id": "2eb3b95a",
   "metadata": {},
   "source": [
    "### 군인 크롤링 데이터 전처리"
   ]
  },
  {
   "cell_type": "code",
   "execution_count": null,
   "id": "e8742abc",
   "metadata": {
    "scrolled": true
   },
   "outputs": [],
   "source": [
    "SNS_army = pd.read_excel(\"Desktop/army_vacation.xlsx\")"
   ]
  },
  {
   "cell_type": "code",
   "execution_count": null,
   "id": "da70c7c0",
   "metadata": {
    "scrolled": true
   },
   "outputs": [],
   "source": [
    "army_tags = []\n",
    "\n",
    "for tag in SNS_army['해시태그']:\n",
    "    tag_list = tag[2:-2].split(\",\")\n",
    "    for tag in tag_list:\n",
    "        army_tags.append(tag)"
   ]
  },
  {
   "cell_type": "code",
   "execution_count": null,
   "id": "230b7428",
   "metadata": {
    "scrolled": true
   },
   "outputs": [],
   "source": [
    "army_tags_counts = Counter(army_tags)"
   ]
  },
  {
   "cell_type": "code",
   "execution_count": null,
   "id": "fc530d06",
   "metadata": {
    "scrolled": false
   },
   "outputs": [],
   "source": [
    "army_tags_counts.most_common()"
   ]
  },
  {
   "cell_type": "code",
   "execution_count": null,
   "id": "013a1c61",
   "metadata": {
    "scrolled": true
   },
   "outputs": [],
   "source": [
    "army_tag_counts_df = pd.DataFrame(army_tags_counts.most_common(30))\n",
    "army_tag_counts_df.columns = ['tags', 'counts']"
   ]
  },
  {
   "cell_type": "code",
   "execution_count": null,
   "id": "1a5c4047",
   "metadata": {
    "scrolled": false
   },
   "outputs": [],
   "source": [
    "plt.figure(figsize = (10, 8))\n",
    "sns.barplot(x = 'counts', y = 'tags', data = army_tag_counts_df)"
   ]
  },
  {
   "cell_type": "markdown",
   "id": "f8e64b05",
   "metadata": {},
   "source": [
    "### 지역 투어 상품 데이터"
   ]
  },
  {
   "cell_type": "code",
   "execution_count": null,
   "id": "a4c670d4",
   "metadata": {
    "scrolled": true
   },
   "outputs": [],
   "source": [
    "tour_data_df = pd.DataFrame([])\n",
    "\n",
    "folder = 'Desktop/지역별 투어:교통상품 데이터/'\n",
    "f_list = ['YN_REGNAL_TOUR_ND_TRNSPORT_GOODS_202209.csv',\n",
    "         'YN_REGNAL_TOUR_ND_TRNSPORT_GOODS_202208.csv',\n",
    "         'YN_REGNAL_TOUR_ND_TRNSPORT_GOODS_202207.csv',\n",
    "         'YN_REGNAL_TOUR_ND_TRNSPORT_GOODS_202206.csv',\n",
    "         'YN_REGNAL_TOUR_ND_TRNSPORT_GOODS_202205.csv',\n",
    "         'YN_REGNAL_TOUR_ND_TRNSPORT_GOODS_202203.csv',\n",
    "         'YN_REGNAL_TOUR_ND_TRNSPORT_GOODS_202202.csv',\n",
    "         'YN_REGNAL_TOUR_ND_TRNSPORT_GOODS_202201.csv']\n",
    "\n",
    "for fname in f_list:\n",
    "    fpath = folder + fname\n",
    "    temp = pd.read_csv(fpath)\n",
    "    tour_data_df = tour_data_df.append(temp)\n",
    "    \n",
    "tour_data_df.columns = ['지역', '투어상품코드', '상품명', '상품주소', '날짜']"
   ]
  },
  {
   "cell_type": "code",
   "execution_count": null,
   "id": "23f68bf6",
   "metadata": {
    "scrolled": false
   },
   "outputs": [],
   "source": [
    "tour_data_df = tour_data_df.dropna()"
   ]
  },
  {
   "cell_type": "code",
   "execution_count": null,
   "id": "5d9a9d41",
   "metadata": {
    "scrolled": true
   },
   "outputs": [],
   "source": [
    "tour_cheonan_df = tour_data_df[tour_data_df['지역'].str.contains('천안')]"
   ]
  },
  {
   "cell_type": "code",
   "execution_count": null,
   "id": "873b2327",
   "metadata": {
    "scrolled": true
   },
   "outputs": [],
   "source": [
    "tour_cheonan_df.to_excel(\"Desktop/야놀자 천안 인기 여행지.xlsx\", index = False)"
   ]
  },
  {
   "cell_type": "markdown",
   "id": "39593b97",
   "metadata": {},
   "source": [
    "### 여행지 키워드 데이터"
   ]
  },
  {
   "cell_type": "code",
   "execution_count": null,
   "id": "7fa6e729",
   "metadata": {
    "scrolled": true
   },
   "outputs": [],
   "source": [
    "tour_keyword_data_df = pd.DataFrame([])\n",
    "\n",
    "f_list = ['CI_YEAR_ACCTO_TRRSRT_KWRD_LIST_2021.csv', 'CI_ALL_PD_TRRSRT_KWRD_INFO_2020.csv']\n",
    "\n",
    "folder = 'Desktop/여행지 키워드 데이터/'\n",
    "\n",
    "for fname in f_list:\n",
    "    fpath = folder + fname\n",
    "    temp = pd.read_csv(fpath)\n",
    "    tour_keyword_data_df = tour_keyword_data_df.append(temp)"
   ]
  },
  {
   "cell_type": "code",
   "execution_count": null,
   "id": "af70ff3f",
   "metadata": {
    "scrolled": true
   },
   "outputs": [],
   "source": [
    "tour_keyword_data_df"
   ]
  },
  {
   "cell_type": "code",
   "execution_count": null,
   "id": "ea6b701b",
   "metadata": {
    "scrolled": false
   },
   "outputs": [],
   "source": [
    "tour_keyword_all_df = tour_keyword_data_df[tour_keyword_data_df['AREA_NM'] == '전국']"
   ]
  },
  {
   "cell_type": "code",
   "execution_count": null,
   "id": "01349f70",
   "metadata": {
    "scrolled": true
   },
   "outputs": [],
   "source": [
    "tour_keyword_all_df = tour_keyword_all_df.fillna('2020')\n",
    "tour_keyword_all_df = tour_keyword_all_df[['AREA_NM', 'KWRD_RANK_CO', 'KWRD_NM', 'OCCRRNC_YEAR']]\n",
    "tour_keyword_all_df.columns = ['지역', '순위', '여행키워드', '년도']"
   ]
  },
  {
   "cell_type": "code",
   "execution_count": null,
   "id": "518486a0",
   "metadata": {
    "scrolled": true
   },
   "outputs": [],
   "source": [
    "tour_keyword_all_df.to_excel(\"Desktop/전국 여행지 키워드.xlsx\", index = False)"
   ]
  },
  {
   "cell_type": "code",
   "execution_count": null,
   "id": "3de377eb",
   "metadata": {
    "scrolled": true
   },
   "outputs": [],
   "source": [
    "tour_keyword_cheonan_df = tour_keyword_data_df[tour_keyword_data_df['AREA_NM'] == '충청남도']"
   ]
  },
  {
   "cell_type": "code",
   "execution_count": null,
   "id": "03fbbb1d",
   "metadata": {
    "scrolled": true
   },
   "outputs": [],
   "source": [
    "tour_keyword_cheonan_df = tour_keyword_cheonan_df.fillna('2020.0')"
   ]
  },
  {
   "cell_type": "code",
   "execution_count": null,
   "id": "a395f75c",
   "metadata": {
    "scrolled": true
   },
   "outputs": [],
   "source": [
    "tour_keyword_cheonan_df = tour_keyword_cheonan_df[['AREA_NM', 'KWRD_RANK_CO', 'KWRD_NM', 'OCCRRNC_YEAR']]\n",
    "tour_keyword_cheonan_df.columns = ['지역', '순위', '여행키워드', '년도']\n",
    "tour_keyword_cheonan_df"
   ]
  },
  {
   "cell_type": "code",
   "execution_count": null,
   "id": "fca6ab62",
   "metadata": {
    "scrolled": true
   },
   "outputs": [],
   "source": [
    "tour_keyword_cheonan_df.to_excel(\"Desktop/충청남도 여행지 키워드.xlsx\", index = False)"
   ]
  },
  {
   "cell_type": "markdown",
   "id": "fc2ee222",
   "metadata": {},
   "source": [
    "### 여가시간 활용 목적 데이터"
   ]
  },
  {
   "cell_type": "code",
   "execution_count": null,
   "id": "377e44ee",
   "metadata": {
    "scrolled": true
   },
   "outputs": [],
   "source": [
    "time_data_df = pd.DataFrame([])\n",
    "\n",
    "f_list = ['CI_LSR_TIME_USE_PURPS_INFO_20220720.csv',\n",
    "         'CI_LSR_TIME_USE_PURPS_INFO_20220627.csv',\n",
    "         'CI_LSR_TIME_USE_PURPS_INFO_20220629.csv',\n",
    "         'CI_LSR_TIME_USE_PURPS_INFO_20220704.csv',\n",
    "         'CI_LSR_TIME_USE_PURPS_INFO_20220718.csv',\n",
    "         'CI_LSR_TIME_USE_PURPS_INFO_20220725.csv',\n",
    "         'CI_LSR_TIME_USE_PURPS_INFO_20220727.csv',\n",
    "         'CI_LSR_TIME_USE_PURPS_INFO_20220803.csv',\n",
    "         'CI_LSR_TIME_USE_PURPS_INFO_20220810.csv',\n",
    "         'CI_LSR_TIME_USE_PURPS_INFO_20220817.csv',\n",
    "         'CI_LSR_TIME_USE_PURPS_INFO_20220824.csv',\n",
    "         'CI_LSR_TIME_USE_PURPS_INFO_20220831.csv',\n",
    "         'CI_LSR_TIME_USE_PURPS_INFO_20220907.csv',\n",
    "         'CI_LSR_TIME_USE_PURPS_INFO_20220914.csv',\n",
    "         'CI_LSR_TIME_USE_PURPS_INFO_20220921.csv',\n",
    "         'CI_LSR_TIME_USE_PURPS_INFO_20220928 (1).csv']\n",
    "\n",
    "folder = 'Desktop/여가시간 활용목적/'\n",
    "\n",
    "for fname in f_list:\n",
    "    fpath = folder + fname\n",
    "    temp = pd.read_csv(fpath)\n",
    "    time_data_df = time_data_df.append(temp)"
   ]
  },
  {
   "cell_type": "code",
   "execution_count": null,
   "id": "36b180f8",
   "metadata": {
    "scrolled": true
   },
   "outputs": [],
   "source": [
    "time_data_df.columns = ['응답자ID', '조사시작일자', '성별', '연령대', '거주지', '가구소득정도', '여가시간1순위', '여가시간2순위']"
   ]
  },
  {
   "cell_type": "code",
   "execution_count": null,
   "id": "b10ef1a7",
   "metadata": {
    "scrolled": true
   },
   "outputs": [],
   "source": [
    "time_20M_df = time_data_df[(time_data_df['성별'] == 'M') & (time_data_df['연령대'] == '20대')]"
   ]
  },
  {
   "cell_type": "code",
   "execution_count": null,
   "id": "b8e5f511",
   "metadata": {
    "scrolled": true
   },
   "outputs": [],
   "source": [
    "time_20M_df['여가시간1순위'].value_counts()"
   ]
  },
  {
   "cell_type": "code",
   "execution_count": null,
   "id": "be5901b9",
   "metadata": {
    "scrolled": true
   },
   "outputs": [],
   "source": [
    "time_20M_df['여가시간2순위'].value_counts()"
   ]
  },
  {
   "cell_type": "code",
   "execution_count": null,
   "id": "db76b099",
   "metadata": {
    "scrolled": true
   },
   "outputs": [],
   "source": [
    "time_20M_df.to_excel(\"Desktop/20대 남성 여가시간.xlsx\", index =False)"
   ]
  },
  {
   "cell_type": "code",
   "execution_count": null,
   "id": "68cb5c62",
   "metadata": {
    "scrolled": false
   },
   "outputs": [],
   "source": [
    "pd.read_excel(\"Desktop/20대 남성 여가시간.xlsx\")"
   ]
  },
  {
   "cell_type": "markdown",
   "id": "b7245b08",
   "metadata": {},
   "source": [
    "### 천안의 흥 먹거리 크롤링 "
   ]
  },
  {
   "cell_type": "code",
   "execution_count": null,
   "id": "417292f1",
   "metadata": {
    "scrolled": true
   },
   "outputs": [],
   "source": [
    "from selenium import webdriver\n",
    "from bs4 import BeautifulSoup\n",
    "import requests\n",
    "import pandas as pd"
   ]
  },
  {
   "cell_type": "code",
   "execution_count": null,
   "id": "8b0ee8d5",
   "metadata": {
    "scrolled": true
   },
   "outputs": [],
   "source": [
    "    url = \"https://www.cheonan.go.kr/prog/hotFood/tour/sub03_08/list.do?area=&pageIndex={}\".format(i)\n",
    "    \n",
    "    res = requests.get(url)\n",
    "    soup = BeautifulSoup(res.content, 'html.parser')"
   ]
  },
  {
   "cell_type": "code",
   "execution_count": null,
   "id": "f4573fe0",
   "metadata": {
    "scrolled": false
   },
   "outputs": [],
   "source": [
    "soup.select"
   ]
  },
  {
   "cell_type": "code",
   "execution_count": null,
   "id": "129c7501",
   "metadata": {
    "scrolled": true
   },
   "outputs": [],
   "source": [
    "rest_list"
   ]
  },
  {
   "cell_type": "code",
   "execution_count": null,
   "id": "c6679d7b",
   "metadata": {
    "scrolled": true
   },
   "outputs": [],
   "source": [
    "rest_list_data = []\n",
    "\n",
    "for i in range(1, 6):\n",
    "    url = \"https://www.cheonan.go.kr/prog/hotFood/tour/sub03_08/list.do?area=&pageIndex={}\".format(i)\n",
    "    \n",
    "    res = requests.get(url)\n",
    "    soup = BeautifulSoup(res.content, 'html.parser')\n",
    "    rest_list = soup.select('span.con')\n",
    "\n",
    "    for i in rest_list:\n",
    "        menu = i.select('li.icon_06')[0].text\n",
    "        number = i.select('li.icon_02')[0].text\n",
    "        address = i.select('li.icon_01')[0].text\n",
    "        name = i('strong')[0].text\n",
    "        \n",
    "        rest_list_data.append([menu, name, address, number])"
   ]
  },
  {
   "cell_type": "code",
   "execution_count": null,
   "id": "5e506149",
   "metadata": {
    "scrolled": true
   },
   "outputs": [],
   "source": [
    "rest_list_df = pd.DataFrame(rest_list_data)\n",
    "rest_list_df.columns = ['주메뉴', '이름', '주소', '연락처']"
   ]
  },
  {
   "cell_type": "code",
   "execution_count": null,
   "id": "799ced90",
   "metadata": {
    "scrolled": true
   },
   "outputs": [],
   "source": [
    "rest_list_df"
   ]
  },
  {
   "cell_type": "code",
   "execution_count": null,
   "id": "26e5ed91",
   "metadata": {
    "scrolled": true
   },
   "outputs": [],
   "source": [
    "rest_list_df.to_excel('Desktop/천안은 처음이라_먹거리.xlsx', index = False)"
   ]
  },
  {
   "cell_type": "markdown",
   "id": "442e245c",
   "metadata": {},
   "source": [
    "### 빵집 및 호두과자 크롤링"
   ]
  },
  {
   "cell_type": "code",
   "execution_count": null,
   "id": "88fa76a4",
   "metadata": {
    "scrolled": true
   },
   "outputs": [],
   "source": [
    "res = requests.get('https://www.cheonan.go.kr/tour/sub03_12.do')\n",
    "soup = BeautifulSoup(res.content, 'html.parser')\n",
    "bakery_list = soup.select('div.con')\n",
    "\n",
    "bakery_list_data = []\n",
    "\n",
    "for bakery in bakery_list:\n",
    "    name = bakery.select('strong.title2')[0].text\n",
    "    inform = bakery.select('p.mb_10')[0].text.replace('\\r', '').replace('\\n', '').replace('\\t', '')\n",
    "    number = bakery.select('li')[1].text.split('/')[1].strip()\n",
    "    address = bakery.select('li')[1].text.split('/')[0].split(':')[1].strip()\n",
    "    \n",
    "    bakery_list_data.append([name, inform, address, number])"
   ]
  },
  {
   "cell_type": "code",
   "execution_count": null,
   "id": "ea1a4b5b",
   "metadata": {
    "scrolled": true
   },
   "outputs": [],
   "source": [
    "columns = ['이름', '소개', '주소', '연락처']\n",
    "bakery_list_df = pd.DataFrame(bakery_list_data, columns = columns)"
   ]
  },
  {
   "cell_type": "code",
   "execution_count": null,
   "id": "44fdc205",
   "metadata": {
    "scrolled": true
   },
   "outputs": [],
   "source": [
    "bakery_list_df"
   ]
  },
  {
   "cell_type": "code",
   "execution_count": null,
   "id": "f6482fcf",
   "metadata": {
    "scrolled": true
   },
   "outputs": [],
   "source": [
    "bakery_list_df.to_excel('Desktop/천안은 처음이라_빵집 및 호두과자.xlsx', index = False)"
   ]
  },
  {
   "cell_type": "markdown",
   "id": "215397d1",
   "metadata": {},
   "source": [
    "### 나머지 데이터 수집 결과 "
   ]
  },
  {
   "cell_type": "code",
   "execution_count": null,
   "id": "c3145d72",
   "metadata": {
    "scrolled": true
   },
   "outputs": [],
   "source": [
    "import pandas as pd\n",
    "fastiver = pd.read_excel(\"Desktop/천안_축제.xlsx\")\n",
    "museum = pd.read_excel(\"Desktop/천안_박물관.xlsx\")\n",
    "san = pd.read_excel(\"Desktop/천안_산.xlsx\")\n",
    "cheonan12 = pd.read_excel(\"Desktop/천안_천안12경.xlsx\")\n",
    "nature = pd.read_excel(\"Desktop/천안_자연관광.xlsx\")\n",
    "camping = pd.read_excel(\"Desktop/천안_캠핑장.xlsx\")"
   ]
  },
  {
   "cell_type": "code",
   "execution_count": null,
   "id": "6f23a45e",
   "metadata": {
    "scrolled": true
   },
   "outputs": [],
   "source": [
    "fastiver"
   ]
  },
  {
   "cell_type": "code",
   "execution_count": null,
   "id": "191a02cd",
   "metadata": {
    "scrolled": true
   },
   "outputs": [],
   "source": [
    "museum"
   ]
  },
  {
   "cell_type": "code",
   "execution_count": null,
   "id": "87911a46",
   "metadata": {
    "scrolled": true
   },
   "outputs": [],
   "source": [
    "san"
   ]
  },
  {
   "cell_type": "code",
   "execution_count": null,
   "id": "a8ba4623",
   "metadata": {
    "scrolled": false
   },
   "outputs": [],
   "source": [
    "cheonan12"
   ]
  },
  {
   "cell_type": "code",
   "execution_count": null,
   "id": "d2f4253e",
   "metadata": {
    "scrolled": true
   },
   "outputs": [],
   "source": [
    "nature"
   ]
  },
  {
   "cell_type": "code",
   "execution_count": null,
   "id": "e9d1c1b0",
   "metadata": {
    "scrolled": true
   },
   "outputs": [],
   "source": [
    "camping"
   ]
  },
  {
   "cell_type": "markdown",
   "id": "5d7659df",
   "metadata": {},
   "source": [
    "### 도로명주소를 통해 위도와 경도로 반환"
   ]
  },
  {
   "cell_type": "code",
   "execution_count": null,
   "id": "5a0f112c",
   "metadata": {
    "scrolled": true
   },
   "outputs": [],
   "source": [
    "bakery = pd.read_excel(\"Desktop/천안_빵집 및 호두과자.xlsx\")"
   ]
  },
  {
   "cell_type": "code",
   "execution_count": null,
   "id": "7cfb995f",
   "metadata": {
    "scrolled": true
   },
   "outputs": [],
   "source": [
    "address = bakery['주소']"
   ]
  },
  {
   "cell_type": "code",
   "execution_count": null,
   "id": "6847c0be",
   "metadata": {
    "scrolled": true
   },
   "outputs": [],
   "source": [
    "for i in range(len(address)):\n",
    "    a = address[i].split(' ')\n",
    "    address[i] = \" \".join(a[0:3])\n",
    "print(address)"
   ]
  },
  {
   "cell_type": "code",
   "execution_count": null,
   "id": "448b3aa1",
   "metadata": {
    "scrolled": true
   },
   "outputs": [],
   "source": [
    "from geopy.geocoders import Nominatim\n",
    "geo_local = Nominatim(user_agent = 'South Korea')\n",
    "def geocoding(address):\n",
    "    try:\n",
    "        geo = geo_local.geocode(address)\n",
    "        x_y = [geo.latitude, geo.longitude]\n",
    "        return x_y\n",
    "    \n",
    "    except:\n",
    "        return[0, 0]"
   ]
  },
  {
   "cell_type": "code",
   "execution_count": null,
   "id": "edb2bbf7",
   "metadata": {
    "scrolled": true
   },
   "outputs": [],
   "source": [
    "latitude = []\n",
    "longitude = []\n",
    "\n",
    "for i in address:\n",
    "    latitude.append(geocoding(i)[0])\n",
    "    longitude.append(geocoding(i)[1])"
   ]
  },
  {
   "cell_type": "code",
   "execution_count": null,
   "id": "f3e08bdb",
   "metadata": {
    "scrolled": true
   },
   "outputs": [],
   "source": [
    "bakery['위도'] = latitude\n",
    "bakery['경도'] = longitude"
   ]
  },
  {
   "cell_type": "code",
   "execution_count": null,
   "id": "d0bfc6bd",
   "metadata": {
    "scrolled": true
   },
   "outputs": [],
   "source": [
    "bakery"
   ]
  }
 ],
 "metadata": {
  "kernelspec": {
   "display_name": "Python 3 (ipykernel)",
   "language": "python",
   "name": "python3"
  },
  "language_info": {
   "codemirror_mode": {
    "name": "ipython",
    "version": 3
   },
   "file_extension": ".py",
   "mimetype": "text/x-python",
   "name": "python",
   "nbconvert_exporter": "python",
   "pygments_lexer": "ipython3",
   "version": "3.9.7"
  }
 },
 "nbformat": 4,
 "nbformat_minor": 5
}
